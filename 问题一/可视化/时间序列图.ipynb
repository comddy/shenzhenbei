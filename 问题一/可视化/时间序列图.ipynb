{
 "cells": [
  {
   "cell_type": "code",
   "execution_count": 1,
   "metadata": {},
   "outputs": [],
   "source": [
    "import pandas as pd\n",
    "import numpy as np\n"
   ]
  },
  {
   "cell_type": "code",
   "execution_count": 2,
   "metadata": {},
   "outputs": [
    {
     "data": {
      "text/html": [
       "<div>\n",
       "<style scoped>\n",
       "    .dataframe tbody tr th:only-of-type {\n",
       "        vertical-align: middle;\n",
       "    }\n",
       "\n",
       "    .dataframe tbody tr th {\n",
       "        vertical-align: top;\n",
       "    }\n",
       "\n",
       "    .dataframe thead th {\n",
       "        text-align: right;\n",
       "    }\n",
       "</style>\n",
       "<table border=\"1\" class=\"dataframe\">\n",
       "  <thead>\n",
       "    <tr style=\"text-align: right;\">\n",
       "      <th></th>\n",
       "      <th>mid</th>\n",
       "      <th>publish_time</th>\n",
       "      <th>user_name</th>\n",
       "      <th>user_link</th>\n",
       "      <th>content</th>\n",
       "      <th>source</th>\n",
       "      <th>location_url</th>\n",
       "      <th>location_name</th>\n",
       "      <th>image_urls</th>\n",
       "      <th>weibo_link</th>\n",
       "      <th>forward_num</th>\n",
       "      <th>comment_num</th>\n",
       "      <th>like_num</th>\n",
       "    </tr>\n",
       "  </thead>\n",
       "  <tbody>\n",
       "    <tr>\n",
       "      <th>0</th>\n",
       "      <td>4.796900e+15</td>\n",
       "      <td>2022/7/30 12:07</td>\n",
       "      <td>举报保护伞</td>\n",
       "      <td>https://weibo.com/7499573893?refer_flag=100103...</td>\n",
       "      <td>暂停更新，配合警方办理案件#河南村镇银行多位储户又被赋红码##河南村镇银行储户被强行赋红码#...</td>\n",
       "      <td>iPhone客户端</td>\n",
       "      <td>NaN</td>\n",
       "      <td>NaN</td>\n",
       "      <td>https://wx1.sinaimg.cn/orj360/008bxrLfly1h4otp...</td>\n",
       "      <td>https://weibo.com/7499573893/LEERCD6Mf?refer_f...</td>\n",
       "      <td>0</td>\n",
       "      <td>0</td>\n",
       "      <td>2</td>\n",
       "    </tr>\n",
       "    <tr>\n",
       "      <th>1</th>\n",
       "      <td>4.796900e+15</td>\n",
       "      <td>2022/7/30 11:56</td>\n",
       "      <td>举报保护伞</td>\n",
       "      <td>https://weibo.com/7499573893?refer_flag=100103...</td>\n",
       "      <td>暂停更新，配合警方#河南村镇银行多位储户又被赋红码##河南村镇银行储户被强行赋红码##河南一...</td>\n",
       "      <td>iPhone客户端</td>\n",
       "      <td>NaN</td>\n",
       "      <td>NaN</td>\n",
       "      <td>NaN</td>\n",
       "      <td>https://weibo.com/7499573893/LEENplToW?refer_f...</td>\n",
       "      <td>0</td>\n",
       "      <td>0</td>\n",
       "      <td>1</td>\n",
       "    </tr>\n",
       "    <tr>\n",
       "      <th>2</th>\n",
       "      <td>4.796660e+15</td>\n",
       "      <td>2022/7/29 20:13</td>\n",
       "      <td>徐惠子丶</td>\n",
       "      <td>https://weibo.com/6290970930?refer_flag=100103...</td>\n",
       "      <td>#河南村镇银行多位储户又被赋红码##河南村镇银行##百度热议# 我已经领到了，为了响应国家政...</td>\n",
       "      <td>Redmi 9A</td>\n",
       "      <td>NaN</td>\n",
       "      <td>NaN</td>\n",
       "      <td>NaN</td>\n",
       "      <td>https://weibo.com/6290970930/LEyCyg4kJ?refer_f...</td>\n",
       "      <td>0</td>\n",
       "      <td>0</td>\n",
       "      <td>0</td>\n",
       "    </tr>\n",
       "    <tr>\n",
       "      <th>3</th>\n",
       "      <td>4.796650e+15</td>\n",
       "      <td>2022/7/29 19:45</td>\n",
       "      <td>施志平2011</td>\n",
       "      <td>https://weibo.com/2083005511?refer_flag=100103...</td>\n",
       "      <td>//@slkldjf:#存款回家# #河南村镇银行多位储户又被赋红码# 储户谢谢您们了！</td>\n",
       "      <td>小米8青春版 潮流旗舰</td>\n",
       "      <td>NaN</td>\n",
       "      <td>NaN</td>\n",
       "      <td>NaN</td>\n",
       "      <td>https://weibo.com/2083005511/LEyr9pRYM?refer_f...</td>\n",
       "      <td>0</td>\n",
       "      <td>0</td>\n",
       "      <td>0</td>\n",
       "    </tr>\n",
       "    <tr>\n",
       "      <th>4</th>\n",
       "      <td>4.796650e+15</td>\n",
       "      <td>2022/7/29 19:41</td>\n",
       "      <td>无所谓ya丶</td>\n",
       "      <td>https://weibo.com/5476743904?refer_flag=100103...</td>\n",
       "      <td>河南多位金融系统官员被查！#河南对村镇银行客户开展先行垫付# #河南村镇银行多位储户又被赋红...</td>\n",
       "      <td>360安全浏览器</td>\n",
       "      <td>NaN</td>\n",
       "      <td>NaN</td>\n",
       "      <td>https://wx4.sinaimg.cn/orj360/005YDRh6ly1h4o16...</td>\n",
       "      <td>https://weibo.com/5476743904/LEypw4Ntr?refer_f...</td>\n",
       "      <td>0</td>\n",
       "      <td>1</td>\n",
       "      <td>2</td>\n",
       "    </tr>\n",
       "  </tbody>\n",
       "</table>\n",
       "</div>"
      ],
      "text/plain": [
       "            mid     publish_time user_name  \\\n",
       "0  4.796900e+15  2022/7/30 12:07     举报保护伞   \n",
       "1  4.796900e+15  2022/7/30 11:56     举报保护伞   \n",
       "2  4.796660e+15  2022/7/29 20:13      徐惠子丶   \n",
       "3  4.796650e+15  2022/7/29 19:45   施志平2011   \n",
       "4  4.796650e+15  2022/7/29 19:41    无所谓ya丶   \n",
       "\n",
       "                                           user_link  \\\n",
       "0  https://weibo.com/7499573893?refer_flag=100103...   \n",
       "1  https://weibo.com/7499573893?refer_flag=100103...   \n",
       "2  https://weibo.com/6290970930?refer_flag=100103...   \n",
       "3  https://weibo.com/2083005511?refer_flag=100103...   \n",
       "4  https://weibo.com/5476743904?refer_flag=100103...   \n",
       "\n",
       "                                             content       source  \\\n",
       "0  暂停更新，配合警方办理案件#河南村镇银行多位储户又被赋红码##河南村镇银行储户被强行赋红码#...    iPhone客户端   \n",
       "1  暂停更新，配合警方#河南村镇银行多位储户又被赋红码##河南村镇银行储户被强行赋红码##河南一...    iPhone客户端   \n",
       "2  #河南村镇银行多位储户又被赋红码##河南村镇银行##百度热议# 我已经领到了，为了响应国家政...     Redmi 9A   \n",
       "3       //@slkldjf:#存款回家# #河南村镇银行多位储户又被赋红码# 储户谢谢您们了！  小米8青春版 潮流旗舰   \n",
       "4  河南多位金融系统官员被查！#河南对村镇银行客户开展先行垫付# #河南村镇银行多位储户又被赋红...     360安全浏览器   \n",
       "\n",
       "  location_url location_name  \\\n",
       "0          NaN           NaN   \n",
       "1          NaN           NaN   \n",
       "2          NaN           NaN   \n",
       "3          NaN           NaN   \n",
       "4          NaN           NaN   \n",
       "\n",
       "                                          image_urls  \\\n",
       "0  https://wx1.sinaimg.cn/orj360/008bxrLfly1h4otp...   \n",
       "1                                                NaN   \n",
       "2                                                NaN   \n",
       "3                                                NaN   \n",
       "4  https://wx4.sinaimg.cn/orj360/005YDRh6ly1h4o16...   \n",
       "\n",
       "                                          weibo_link  forward_num  \\\n",
       "0  https://weibo.com/7499573893/LEERCD6Mf?refer_f...            0   \n",
       "1  https://weibo.com/7499573893/LEENplToW?refer_f...            0   \n",
       "2  https://weibo.com/6290970930/LEyCyg4kJ?refer_f...            0   \n",
       "3  https://weibo.com/2083005511/LEyr9pRYM?refer_f...            0   \n",
       "4  https://weibo.com/5476743904/LEypw4Ntr?refer_f...            0   \n",
       "\n",
       "   comment_num  like_num  \n",
       "0            0         2  \n",
       "1            0         1  \n",
       "2            0         0  \n",
       "3            0         0  \n",
       "4            1         2  "
      ]
     },
     "execution_count": 2,
     "metadata": {},
     "output_type": "execute_result"
    }
   ],
   "source": [
    "df = pd.read_csv(\"data/#河南村镇银行多位储户又被赋红码#.csv\")\n",
    "df.head()"
   ]
  },
  {
   "cell_type": "code",
   "execution_count": 3,
   "metadata": {},
   "outputs": [
    {
     "data": {
      "text/plain": [
       "array(['2022-7-10', '2022-7-11', '2022-7-12', '2022-7-13', '2022-7-14',\n",
       "       '2022-7-15', '2022-7-16', '2022-7-17', '2022-7-18', '2022-7-19',\n",
       "       '2022-7-20', '2022-7-21', '2022-7-22', '2022-7-23', '2022-7-24',\n",
       "       '2022-7-25', '2022-7-26', '2022-7-27', '2022-7-28', '2022-7-29',\n",
       "       '2022-7-30', '2022-7-7', '2022-7-8', '2022-7-9'], dtype=object)"
      ]
     },
     "execution_count": 3,
     "metadata": {},
     "output_type": "execute_result"
    }
   ],
   "source": [
    "times = df[\"publish_time\"]\n",
    "new_times = []\n",
    "for time in times:\n",
    "    new_times.append(time[:9].replace('/','-').replace(' ',''))\n",
    "df[\"publish_time\"] = new_times\n",
    "days = df[\"publish_time\"].unique()\n",
    "days.sort()\n",
    "days"
   ]
  },
  {
   "cell_type": "code",
   "execution_count": 28,
   "metadata": {},
   "outputs": [
    {
     "data": {
      "text/plain": [
       "array(['2022-7-10', '2022-7-11', '2022-7-12', '2022-7-13', '2022-7-14',\n",
       "       '2022-7-15', '2022-7-16', '2022-7-17', '2022-7-18', '2022-7-19',\n",
       "       '2022-7-20', '2022-7-21', '2022-7-22', '2022-7-23', '2022-7-24',\n",
       "       '2022-7-25', '2022-7-26', '2022-7-27', '2022-7-28', '2022-7-29',\n",
       "       '2022-7-30'], dtype=object)"
      ]
     },
     "execution_count": 28,
     "metadata": {},
     "output_type": "execute_result"
    }
   ],
   "source": [
    "a = [1,2,3]\n",
    "b = [4,5,6]\n",
    "days[-3:]\n",
    "days[:-3]"
   ]
  },
  {
   "cell_type": "code",
   "execution_count": 29,
   "metadata": {},
   "outputs": [],
   "source": [
    "commnet_num = []\n",
    "forward_num = []\n",
    "like_num = []\n",
    "\n",
    "new_days = days[-3:].tolist() + days[:-3].tolist()\n",
    "for day in new_days:\n",
    "    data = df[df['publish_time'] == day]\n",
    "    commnet_num.append(data['comment_num'].sum())\n",
    "    forward_num.append(data['forward_num'].sum())\n",
    "    like_num.append(data['like_num'].sum())\n",
    "\n"
   ]
  },
  {
   "cell_type": "code",
   "execution_count": 40,
   "metadata": {},
   "outputs": [
    {
     "name": "stdout",
     "output_type": "stream",
     "text": [
      "24\n",
      "24\n",
      "24\n",
      "24\n"
     ]
    },
    {
     "data": {
      "text/plain": [
       "['2022-7-7',\n",
       " '2022-7-8',\n",
       " '2022-7-9',\n",
       " '2022-7-10',\n",
       " '2022-7-11',\n",
       " '2022-7-12',\n",
       " '2022-7-13',\n",
       " '2022-7-14',\n",
       " '2022-7-15',\n",
       " '2022-7-16',\n",
       " '2022-7-17',\n",
       " '2022-7-18',\n",
       " '2022-7-19',\n",
       " '2022-7-20',\n",
       " '2022-7-21',\n",
       " '2022-7-22',\n",
       " '2022-7-23',\n",
       " '2022-7-24',\n",
       " '2022-7-25',\n",
       " '2022-7-26',\n",
       " '2022-7-27',\n",
       " '2022-7-28',\n",
       " '2022-7-29',\n",
       " '2022-7-30']"
      ]
     },
     "execution_count": 40,
     "metadata": {},
     "output_type": "execute_result"
    }
   ],
   "source": [
    "print(len(commnet_num))\n",
    "print(len(forward_num))\n",
    "print(len(like_num))\n",
    "print(len(new_days))\n",
    "new_days"
   ]
  },
  {
   "cell_type": "code",
   "execution_count": 43,
   "metadata": {},
   "outputs": [
    {
     "data": {
      "text/plain": [
       "'c:\\\\Users\\\\zhuima\\\\Desktop\\\\深圳杯\\\\basic_line_chart.html'"
      ]
     },
     "execution_count": 43,
     "metadata": {},
     "output_type": "execute_result"
    }
   ],
   "source": [
    "import pyecharts.options as opts\n",
    "from pyecharts.charts import Line\n",
    "\n",
    "\n",
    "\n",
    "x_data = [\"Mon\", \"Tue\", \"Wed\", \"Thu\", \"Fri\", \"Sat\", \"Sun\"]\n",
    "y_data = [820, 932, 901, 934, 1290, 1330, 1320]\n",
    "\n",
    "\n",
    "c = (\n",
    "    Line()\n",
    "    .add_xaxis(xaxis_data=new_days)\n",
    "    .add_yaxis(\n",
    "        series_name=\"commnet_num\",\n",
    "        y_axis=commnet_num,\n",
    "        is_smooth=True\n",
    "    )\n",
    "\n",
    "    .set_global_opts(\n",
    "    )\n",
    "    .render(\"basic_line_chart.html\")\n",
    ")\n",
    "c"
   ]
  },
  {
   "cell_type": "code",
   "execution_count": 5,
   "metadata": {},
   "outputs": [
    {
     "data": {
      "text/html": [
       "<div>\n",
       "<style scoped>\n",
       "    .dataframe tbody tr th:only-of-type {\n",
       "        vertical-align: middle;\n",
       "    }\n",
       "\n",
       "    .dataframe tbody tr th {\n",
       "        vertical-align: top;\n",
       "    }\n",
       "\n",
       "    .dataframe thead th {\n",
       "        text-align: right;\n",
       "    }\n",
       "</style>\n",
       "<table border=\"1\" class=\"dataframe\">\n",
       "  <thead>\n",
       "    <tr style=\"text-align: right;\">\n",
       "      <th></th>\n",
       "      <th>parent_comment_id</th>\n",
       "      <th>comment_id</th>\n",
       "      <th>comment_time</th>\n",
       "      <th>comment_user_name</th>\n",
       "      <th>comment_user_link</th>\n",
       "      <th>comment_like_num</th>\n",
       "      <th>child_comment_num</th>\n",
       "      <th>parent_name</th>\n",
       "      <th>comment_content</th>\n",
       "      <th>uid</th>\n",
       "    </tr>\n",
       "  </thead>\n",
       "  <tbody>\n",
       "    <tr>\n",
       "      <th>0</th>\n",
       "      <td>4795613000237360</td>\n",
       "      <td>4795615803083133</td>\n",
       "      <td>2022-7-26 22</td>\n",
       "      <td>木芙蓉花膏</td>\n",
       "      <td>https://weibo.com//u/3286345757</td>\n",
       "      <td>0</td>\n",
       "      <td>0</td>\n",
       "      <td>木芙蓉花膏</td>\n",
       "      <td>还有一种乐观精神</td>\n",
       "      <td>3286345757</td>\n",
       "    </tr>\n",
       "    <tr>\n",
       "      <th>1</th>\n",
       "      <td>4795613092782599</td>\n",
       "      <td>4795613801352132</td>\n",
       "      <td>2022-7-26 22</td>\n",
       "      <td>MoonquakeRemix</td>\n",
       "      <td>https://weibo.com//u/5973273563</td>\n",
       "      <td>0</td>\n",
       "      <td>1</td>\n",
       "      <td>yyyybbbbbbbbbb</td>\n",
       "      <td>你担忧什么</td>\n",
       "      <td>5973273563</td>\n",
       "    </tr>\n",
       "    <tr>\n",
       "      <th>2</th>\n",
       "      <td>4795613801352130</td>\n",
       "      <td>4795614250140427</td>\n",
       "      <td>2022-7-26 22</td>\n",
       "      <td>yyyybbbbbbbbbb</td>\n",
       "      <td>https://weibo.com//u/6554818771</td>\n",
       "      <td>0</td>\n",
       "      <td>0</td>\n",
       "      <td>NaN</td>\n",
       "      <td>…是哦…或许是…找…找工作…？这段时间活得我都脱离人世间了</td>\n",
       "      <td>6554818771</td>\n",
       "    </tr>\n",
       "    <tr>\n",
       "      <th>3</th>\n",
       "      <td>4795613130790417</td>\n",
       "      <td>4795617420773299</td>\n",
       "      <td>2022-7-26 23</td>\n",
       "      <td>Paradise-Earth</td>\n",
       "      <td>https://weibo.com//u/7560341323</td>\n",
       "      <td>0</td>\n",
       "      <td>0</td>\n",
       "      <td>进步青年ERIC</td>\n",
       "      <td>地球爆炸吧</td>\n",
       "      <td>7560341323</td>\n",
       "    </tr>\n",
       "    <tr>\n",
       "      <th>4</th>\n",
       "      <td>4795613152283320</td>\n",
       "      <td>4795667345572058</td>\n",
       "      <td>2022-7-27 02</td>\n",
       "      <td>刘小涵_lewis</td>\n",
       "      <td>https://weibo.com//u/5026075485</td>\n",
       "      <td>0</td>\n",
       "      <td>1</td>\n",
       "      <td>Lucas啦啦啦啦啦</td>\n",
       "      <td>这个视频做的真好</td>\n",
       "      <td>5026075485</td>\n",
       "    </tr>\n",
       "  </tbody>\n",
       "</table>\n",
       "</div>"
      ],
      "text/plain": [
       "   parent_comment_id        comment_id  comment_time comment_user_name  \\\n",
       "0   4795613000237360  4795615803083133  2022-7-26 22             木芙蓉花膏   \n",
       "1   4795613092782599  4795613801352132  2022-7-26 22    MoonquakeRemix   \n",
       "2   4795613801352130  4795614250140427  2022-7-26 22    yyyybbbbbbbbbb   \n",
       "3   4795613130790417  4795617420773299  2022-7-26 23    Paradise-Earth   \n",
       "4   4795613152283320  4795667345572058  2022-7-27 02         刘小涵_lewis   \n",
       "\n",
       "                 comment_user_link  comment_like_num  child_comment_num  \\\n",
       "0  https://weibo.com//u/3286345757                 0                  0   \n",
       "1  https://weibo.com//u/5973273563                 0                  1   \n",
       "2  https://weibo.com//u/6554818771                 0                  0   \n",
       "3  https://weibo.com//u/7560341323                 0                  0   \n",
       "4  https://weibo.com//u/5026075485                 0                  1   \n",
       "\n",
       "      parent_name                comment_content         uid  \n",
       "0           木芙蓉花膏                       还有一种乐观精神  3286345757  \n",
       "1  yyyybbbbbbbbbb                          你担忧什么  5973273563  \n",
       "2             NaN  …是哦…或许是…找…找工作…？这段时间活得我都脱离人世间了  6554818771  \n",
       "3        进步青年ERIC                          地球爆炸吧  7560341323  \n",
       "4      Lucas啦啦啦啦啦                       这个视频做的真好  5026075485  "
      ]
     },
     "execution_count": 5,
     "metadata": {},
     "output_type": "execute_result"
    }
   ],
   "source": [
    "data = pd.read_excel(\"raw_data/二舅治好了我的精神内耗.xlsx\")\n",
    "\n",
    "data.head()"
   ]
  },
  {
   "cell_type": "code",
   "execution_count": 8,
   "metadata": {},
   "outputs": [
    {
     "name": "stdout",
     "output_type": "stream",
     "text": [
      "<class 'pandas.core.frame.DataFrame'>\n",
      "Int64Index: 8127 entries, 0 to 9238\n",
      "Data columns (total 10 columns):\n",
      " #   Column             Non-Null Count  Dtype \n",
      "---  ------             --------------  ----- \n",
      " 0   parent_comment_id  8127 non-null   int64 \n",
      " 1   comment_id         8127 non-null   int64 \n",
      " 2   comment_time       8127 non-null   object\n",
      " 3   comment_user_name  8127 non-null   object\n",
      " 4   comment_user_link  8127 non-null   object\n",
      " 5   comment_like_num   8127 non-null   int64 \n",
      " 6   child_comment_num  8127 non-null   int64 \n",
      " 7   parent_name        5001 non-null   object\n",
      " 8   comment_content    8127 non-null   object\n",
      " 9   uid                8127 non-null   int64 \n",
      "dtypes: int64(5), object(5)\n",
      "memory usage: 698.4+ KB\n"
     ]
    }
   ],
   "source": [
    "data.drop_duplicates(subset=['comment_content'], inplace=True)\n",
    "data.dropna(subset=['comment_content'], inplace=True)\n",
    "data.info()"
   ]
  },
  {
   "cell_type": "code",
   "execution_count": 10,
   "metadata": {},
   "outputs": [],
   "source": [
    "data.to_excel('raw_data/二舅治好了我的精神内耗.xlsx', index=False)"
   ]
  }
 ],
 "metadata": {
  "kernelspec": {
   "display_name": "Python 3.9.7 64-bit (system)",
   "language": "python",
   "name": "python3"
  },
  "language_info": {
   "codemirror_mode": {
    "name": "ipython",
    "version": 3
   },
   "file_extension": ".py",
   "mimetype": "text/x-python",
   "name": "python",
   "nbconvert_exporter": "python",
   "pygments_lexer": "ipython3",
   "version": "3.9.7"
  },
  "orig_nbformat": 4,
  "vscode": {
   "interpreter": {
    "hash": "8c455a4213ad22b1ac41aa28373b87a7df4d9832b20044a15be34a8260aa3e12"
   }
  }
 },
 "nbformat": 4,
 "nbformat_minor": 2
}
