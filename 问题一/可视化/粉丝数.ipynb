{
 "cells": [
  {
   "cell_type": "code",
   "execution_count": 1,
   "metadata": {},
   "outputs": [],
   "source": [
    "import pandas as pd\n",
    "import numpy as np\n"
   ]
  },
  {
   "cell_type": "code",
   "execution_count": 4,
   "metadata": {},
   "outputs": [],
   "source": [
    "# path = \"data/粉丝及关注数爬取.xlsx\"\n",
    "# data = pd.read_excel(path)\n",
    "# data.drop_duplicates(subset=['uid'],keep='first',inplace=True)\n",
    "# data = data.drop(data[data['comment_user_name'] == '超话社区'].index)\n",
    "# data = data.sort_values(by=['fans'], ascending=False)\n",
    "# data.to_excel('data/粉丝及关注数爬取.xlsx', index=False)"
   ]
  },
  {
   "cell_type": "code",
   "execution_count": 2,
   "metadata": {},
   "outputs": [
    {
     "name": "stdout",
     "output_type": "stream",
     "text": [
      "<class 'pandas.core.frame.DataFrame'>\n",
      "RangeIndex: 21030 entries, 0 to 21029\n",
      "Data columns (total 4 columns):\n",
      " #   Column             Non-Null Count  Dtype \n",
      "---  ------             --------------  ----- \n",
      " 0   comment_user_name  21030 non-null  object\n",
      " 1   uid                21030 non-null  int64 \n",
      " 2   fans               21030 non-null  int64 \n",
      " 3   foucs_on           21030 non-null  int64 \n",
      "dtypes: int64(3), object(1)\n",
      "memory usage: 657.3+ KB\n"
     ]
    }
   ],
   "source": [
    "path = \"data/粉丝及关注数爬取.xlsx\"\n",
    "data = pd.read_excel(path)\n",
    "data.info()"
   ]
  },
  {
   "cell_type": "code",
   "execution_count": 3,
   "metadata": {},
   "outputs": [
    {
     "data": {
      "text/html": [
       "<div>\n",
       "<style scoped>\n",
       "    .dataframe tbody tr th:only-of-type {\n",
       "        vertical-align: middle;\n",
       "    }\n",
       "\n",
       "    .dataframe tbody tr th {\n",
       "        vertical-align: top;\n",
       "    }\n",
       "\n",
       "    .dataframe thead th {\n",
       "        text-align: right;\n",
       "    }\n",
       "</style>\n",
       "<table border=\"1\" class=\"dataframe\">\n",
       "  <thead>\n",
       "    <tr style=\"text-align: right;\">\n",
       "      <th></th>\n",
       "      <th>comment_user_name</th>\n",
       "      <th>uid</th>\n",
       "      <th>fans</th>\n",
       "      <th>foucs_on</th>\n",
       "    </tr>\n",
       "  </thead>\n",
       "  <tbody>\n",
       "    <tr>\n",
       "      <th>230</th>\n",
       "      <td>木頭Ricky</td>\n",
       "      <td>1653196112</td>\n",
       "      <td>99909</td>\n",
       "      <td>1261</td>\n",
       "    </tr>\n",
       "    <tr>\n",
       "      <th>231</th>\n",
       "      <td>魔法少年纯洁菌</td>\n",
       "      <td>3963167406</td>\n",
       "      <td>99014</td>\n",
       "      <td>1169</td>\n",
       "    </tr>\n",
       "    <tr>\n",
       "      <th>232</th>\n",
       "      <td>不懂物理的诗人不是好的创业导师</td>\n",
       "      <td>2921812050</td>\n",
       "      <td>95074</td>\n",
       "      <td>1527</td>\n",
       "    </tr>\n",
       "    <tr>\n",
       "      <th>233</th>\n",
       "      <td>紫色浪漫白银</td>\n",
       "      <td>1662260092</td>\n",
       "      <td>94003</td>\n",
       "      <td>975</td>\n",
       "    </tr>\n",
       "    <tr>\n",
       "      <th>234</th>\n",
       "      <td>鹤祈W</td>\n",
       "      <td>6019334641</td>\n",
       "      <td>92419</td>\n",
       "      <td>2963</td>\n",
       "    </tr>\n",
       "    <tr>\n",
       "      <th>...</th>\n",
       "      <td>...</td>\n",
       "      <td>...</td>\n",
       "      <td>...</td>\n",
       "      <td>...</td>\n",
       "    </tr>\n",
       "    <tr>\n",
       "      <th>21025</th>\n",
       "      <td>笑魇啊花</td>\n",
       "      <td>1083204723</td>\n",
       "      <td>0</td>\n",
       "      <td>51</td>\n",
       "    </tr>\n",
       "    <tr>\n",
       "      <th>21026</th>\n",
       "      <td>XiaoYu_awa</td>\n",
       "      <td>2153956775</td>\n",
       "      <td>0</td>\n",
       "      <td>2</td>\n",
       "    </tr>\n",
       "    <tr>\n",
       "      <th>21027</th>\n",
       "      <td>brofeiV5_196_406_564_815</td>\n",
       "      <td>1076882557</td>\n",
       "      <td>0</td>\n",
       "      <td>9</td>\n",
       "    </tr>\n",
       "    <tr>\n",
       "      <th>21028</th>\n",
       "      <td>pmzy</td>\n",
       "      <td>1653183591</td>\n",
       "      <td>0</td>\n",
       "      <td>25</td>\n",
       "    </tr>\n",
       "    <tr>\n",
       "      <th>21029</th>\n",
       "      <td>偶得猫</td>\n",
       "      <td>2659969257</td>\n",
       "      <td>0</td>\n",
       "      <td>720</td>\n",
       "    </tr>\n",
       "  </tbody>\n",
       "</table>\n",
       "<p>20800 rows × 4 columns</p>\n",
       "</div>"
      ],
      "text/plain": [
       "              comment_user_name         uid   fans  foucs_on\n",
       "230                     木頭Ricky  1653196112  99909      1261\n",
       "231                     魔法少年纯洁菌  3963167406  99014      1169\n",
       "232             不懂物理的诗人不是好的创业导师  2921812050  95074      1527\n",
       "233                      紫色浪漫白银  1662260092  94003       975\n",
       "234                         鹤祈W  6019334641  92419      2963\n",
       "...                         ...         ...    ...       ...\n",
       "21025                      笑魇啊花  1083204723      0        51\n",
       "21026                XiaoYu_awa  2153956775      0         2\n",
       "21027  brofeiV5_196_406_564_815  1076882557      0         9\n",
       "21028                      pmzy  1653183591      0        25\n",
       "21029                       偶得猫  2659969257      0       720\n",
       "\n",
       "[20800 rows x 4 columns]"
      ]
     },
     "execution_count": 3,
     "metadata": {},
     "output_type": "execute_result"
    }
   ],
   "source": [
    "data.drop(data[data['fans']>100000].index,inplace=True)\n",
    "data"
   ]
  },
  {
   "cell_type": "code",
   "execution_count": 4,
   "metadata": {},
   "outputs": [
    {
     "data": {
      "text/plain": [
       "20800"
      ]
     },
     "execution_count": 4,
     "metadata": {},
     "output_type": "execute_result"
    }
   ],
   "source": [
    "MAX = 99909\n",
    "length = len(data[\"fans\"])\n",
    "length"
   ]
  },
  {
   "cell_type": "code",
   "execution_count": 5,
   "metadata": {},
   "outputs": [
    {
     "name": "stdout",
     "output_type": "stream",
     "text": [
      "1941\n"
     ]
    }
   ],
   "source": [
    "from pyecharts import options as opts\n",
    "from pyecharts.charts import Scatter\n",
    "from pyecharts.faker import Faker\n",
    "\n",
    "\n",
    "def painting(n):\n",
    "    x = []\n",
    "    y = []\n",
    "    t = 0\n",
    "    skip = 0\n",
    "    for i in range(0, MAX, n):\n",
    "        num = data[(i <= data['fans']) & (data['fans'] < i+n)].shape[0]\n",
    "        yres = round(num/length, 3)\n",
    "        if not num or not yres:\n",
    "            skip += 1\n",
    "            continue\n",
    "        \n",
    "        x.append(i+n)\n",
    "        y.append(yres)\n",
    "    print(skip)\n",
    "    # print(y)\n",
    "    c = (\n",
    "        Scatter(init_opts=opts.InitOpts(width=\"1920px\", height=\"800px\"))\n",
    "        .add_xaxis(y)\n",
    "        .add_yaxis(y_axis=x, series_name=\"\", symbol_size=8)\n",
    "        .set_global_opts(\n",
    "            title_opts=opts.TitleOpts(title=\"Scatter-显示分割线\"),\n",
    "            \n",
    "            xaxis_opts=opts.AxisOpts(\n",
    "                splitline_opts=opts.SplitLineOpts(is_show=True),\n",
    "                name='proportion',\n",
    "                name_location='center',\n",
    "                name_gap=30,\n",
    "                type_=\"value\",\n",
    "                name_textstyle_opts=opts.TextStyleOpts(font_size=16),\n",
    "                axisline_opts=opts.AxisLineOpts(is_on_zero=True),\n",
    "                is_scale=True,\n",
    "                # axistick_opts=opts.AxisTickOpts(is_show=True,length=100), #显示刻度\n",
    "                boundary_gap=True\n",
    "                ),\n",
    "            yaxis_opts=opts.AxisOpts(\n",
    "                splitline_opts=opts.SplitLineOpts(is_show=True),\n",
    "                name='the number of fans',\n",
    "                name_location='center',\n",
    "                name_gap=50,\n",
    "                type_=\"value\",\n",
    "                name_textstyle_opts=opts.TextStyleOpts(font_size=16),\n",
    "                # axistick_opts=opts.AxisTickOpts(is_show=True) #显示刻度\n",
    "                # 提示框配置项\n",
    "                )\n",
    "        )\n",
    "        .render(\"fans.html\")\n",
    "    )\n",
    "    return c\n",
    "# c = (\n",
    "#     Scatter()\n",
    "#     .add_xaxis(Faker.choose())\n",
    "#     .add_yaxis(\"商家A\", Faker.values())\n",
    "#     .set_global_opts(\n",
    "#         title_opts=opts.TitleOpts(title=\"Scatter-显示分割线\"),\n",
    "#         xaxis_opts=opts.AxisOpts(splitline_opts=opts.SplitLineOpts(is_show=True)),\n",
    "#         yaxis_opts=opts.AxisOpts(splitline_opts=opts.SplitLineOpts(is_show=True)),\n",
    "#     )\n",
    "#     .render_notebook()\n",
    "# )\n",
    "# c\n",
    "\n",
    "\n",
    "c = painting(50)\n"
   ]
  },
  {
   "cell_type": "code",
   "execution_count": 9,
   "metadata": {},
   "outputs": [
    {
     "name": "stdout",
     "output_type": "stream",
     "text": [
      "1941\n",
      "[[0.426, 50], [0.13, 100], [0.085, 150], [0.055, 200], [0.042, 250], [0.032, 300], [0.024, 350], [0.019, 400], [0.016, 450], [0.012, 500], [0.011, 550], [0.01, 600], [0.008, 650], [0.007, 700], [0.005, 1050], [0.004, 1100], [0.003, 1400], [0.002, 1650], [0.001, 3450]]\n"
     ]
    },
    {
     "data": {
      "text/plain": [
       "'c:\\\\Users\\\\zhuima\\\\Desktop\\\\深圳杯\\\\fans.html'"
      ]
     },
     "execution_count": 9,
     "metadata": {},
     "output_type": "execute_result"
    }
   ],
   "source": [
    "from pyecharts.charts import Line\n",
    "def painting(n):\n",
    "    x = []\n",
    "    y = []\n",
    "    t = 0\n",
    "    skip = 0\n",
    "    for i in range(0, MAX, n):\n",
    "        num = data[(i <= data['fans']) & (data['fans'] < i+n)].shape[0]\n",
    "        yres = round(num/length, 3)\n",
    "        if not num or not yres:\n",
    "            skip += 1\n",
    "            continue\n",
    "        \n",
    "        x.append(i+n)\n",
    "        y.append(yres)\n",
    "    print(skip)\n",
    "    print([list(item) for item in dict(zip(y,x)).items()])\n",
    "    # print(y)\n",
    "    c = (\n",
    "        Line()\n",
    "        .add_xaxis(y)\n",
    "        .add_yaxis(y_axis=x, series_name=\"\", symbol_size=3)\n",
    "        .set_global_opts(\n",
    "            xaxis_opts=opts.AxisOpts(\n",
    "                splitline_opts=opts.SplitLineOpts(is_show=True),\n",
    "                name='proportion',\n",
    "                name_location='center',\n",
    "                name_gap=30,\n",
    "                type_=\"value\",\n",
    "                name_textstyle_opts=opts.TextStyleOpts(font_size=16),\n",
    "                axisline_opts=opts.AxisLineOpts(is_on_zero=True),\n",
    "                # is_scale=True,\n",
    "\n",
    "                # axistick_opts=opts.AxisTickOpts(is_show=True,length=100), #显示刻度\n",
    "                boundary_gap=False\n",
    "                ),\n",
    "            yaxis_opts=opts.AxisOpts(\n",
    "                splitline_opts=opts.SplitLineOpts(is_show=True),\n",
    "                name='the number of fans',\n",
    "                name_location='center',\n",
    "                name_gap=50,\n",
    "                type_=\"value\",\n",
    "                name_textstyle_opts=opts.TextStyleOpts(font_size=16),\n",
    "                # axistick_opts=opts.AxisTickOpts(is_show=True) #显示刻度\n",
    "                # 提示框配置项\n",
    "                )\n",
    "        )\n",
    "        .set_series_opts(label_opts=opts.LabelOpts(is_show=False))\n",
    "        .render(\"fans.html\")\n",
    "    )\n",
    "    return c\n",
    "painting(50)"
   ]
  }
 ],
 "metadata": {
  "kernelspec": {
   "display_name": "Python 3.9.7 64-bit (system)",
   "language": "python",
   "name": "python3"
  },
  "language_info": {
   "codemirror_mode": {
    "name": "ipython",
    "version": 3
   },
   "file_extension": ".py",
   "mimetype": "text/x-python",
   "name": "python",
   "nbconvert_exporter": "python",
   "pygments_lexer": "ipython3",
   "version": "3.9.7"
  },
  "orig_nbformat": 4,
  "vscode": {
   "interpreter": {
    "hash": "8c455a4213ad22b1ac41aa28373b87a7df4d9832b20044a15be34a8260aa3e12"
   }
  }
 },
 "nbformat": 4,
 "nbformat_minor": 2
}
